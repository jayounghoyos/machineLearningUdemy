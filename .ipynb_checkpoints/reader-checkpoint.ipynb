{
 "cells": [
  {
   "cell_type": "code",
   "execution_count": null,
   "metadata": {},
   "outputs": [],
   "source": [
    "import pandas as pd\n",
    "\n",
    "df = pd.read_csv(\"csv/vg.csv\", encoding=\"ISO-8859-1\")\n",
    "print(df.values)\n",
    "\n",
    "print(\"*\" * 10)\n",
    "\n",
    "print(df.shape)\n",
    "\n",
    "\n",
    "print(df.describe)"
   ]
  },
  {
   "cell_type": "code",
   "execution_count": null,
   "metadata": {},
   "outputs": [],
   "source": []
  }
 ],
 "metadata": {
  "language_info": {
   "name": "python"
  }
 },
 "nbformat": 4,
 "nbformat_minor": 2
}
