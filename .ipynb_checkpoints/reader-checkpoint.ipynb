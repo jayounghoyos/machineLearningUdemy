{
 "cells": [
  {
   "cell_type": "code",
   "execution_count": 3,
   "metadata": {},
   "outputs": [
    {
     "name": "stdout",
     "output_type": "stream",
     "text": [
      "[['PC' \"Baldur's Gate 3 Early Access Review\" 'Early Access' 6]\n",
      " ['NS' 'Control: Ultimate Edition Cloud Version Review' 'Good' 7]\n",
      " ['XONE, PC, PS4' 'Doom Eternal: The Ancient Gods Part 1 Review' 'Good' 7]\n",
      " ...\n",
      " ['PC' 'Endorfun Review' 'Good' 7]\n",
      " ['PC' 'FIFA Soccer 96 Review' 'Superb' 9]\n",
      " ['PC' 'Full Throttle Review' 'Great' 8]]\n",
      "**********\n",
      "(14801, 4)\n",
      "<bound method NDFrame.describe of              Console                                           GameName  \\\n",
      "0                 PC                Baldur's Gate 3 Early Access Review   \n",
      "1                 NS     Control: Ultimate Edition Cloud Version Review   \n",
      "2      XONE, PC, PS4       Doom Eternal: The Ancient Gods Part 1 Review   \n",
      "3      XONE, PC, PS4                          Watch Dogs: Legion Review   \n",
      "4                 PC                                Ring Of Pain Review   \n",
      "...              ...                                                ...   \n",
      "14796             PC                                     Doom II Review   \n",
      "14797             PC  Dungeon Master II: The Legend of Skullkeep Review   \n",
      "14798             PC                                    Endorfun Review   \n",
      "14799             PC                              FIFA Soccer 96 Review   \n",
      "14800             PC                               Full Throttle Review   \n",
      "\n",
      "             Review  Score  \n",
      "0      Early Access      6  \n",
      "1              Good      7  \n",
      "2              Good      7  \n",
      "3             Great      8  \n",
      "4             Great      8  \n",
      "...             ...    ...  \n",
      "14796         Great      8  \n",
      "14797      Mediocre      5  \n",
      "14798          Good      7  \n",
      "14799        Superb      9  \n",
      "14800         Great      8  \n",
      "\n",
      "[14801 rows x 4 columns]>\n"
     ]
    }
   ],
   "source": [
    "import pandas as p\n",
    "\n",
    "data_juegos = p.read_csv(\"juegos-ml.csv\", encoding=\"ISO-8859-1\")\n",
    "print(data_juegos)"
   ]
  }
 ],
 "metadata": {
  "kernelspec": {
   "display_name": "Python 3 (ipykernel)",
   "language": "python",
   "name": "python3"
  },
  "language_info": {
   "codemirror_mode": {
    "name": "ipython",
    "version": 3
   },
   "file_extension": ".py",
   "mimetype": "text/x-python",
   "name": "python",
   "nbconvert_exporter": "python",
   "pygments_lexer": "ipython3",
   "version": "3.10.12"
  }
 },
 "nbformat": 4,
 "nbformat_minor": 4
}
