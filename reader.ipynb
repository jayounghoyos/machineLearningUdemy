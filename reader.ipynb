{
 "cells": [
  {
   "cell_type": "code",
   "execution_count": 6,
   "metadata": {},
   "outputs": [
    {
     "name": "stdout",
     "output_type": "stream",
     "text": [
      "    edad  genero      juegos\n",
      "0      8       0      accion\n",
      "1     11       0      accion\n",
      "2     12       0         fps\n",
      "3     13       0         fps\n",
      "4     15       0         fps\n",
      "5     18       0         fps\n",
      "6     22       0        jrpg\n",
      "7     25       0        jrpg\n",
      "8     28       0        jrpg\n",
      "9     31       0      accion\n",
      "10    32       0      accion\n",
      "11    35       0      accion\n",
      "12    10       1  plataforma\n",
      "13    13       1  plataforma\n",
      "14    14       1  plataforma\n",
      "15    15       1      puzzle\n",
      "16    18       1      puzzle\n",
      "17    19       1         fps\n",
      "18    22       1         fps\n",
      "19    25       1         fps\n"
     ]
    }
   ],
   "source": [
    "import pandas as p\n",
    "data_juegos = p.read_csv(\"juegos-ml.csv\", encoding=\"ISO-8859-1\")\n",
    "print(data_juegos)"
   ]
  },
  {
   "cell_type": "code",
   "execution_count": 15,
   "metadata": {},
   "outputs": [
    {
     "data": {
      "text/plain": [
       "1.0"
      ]
     },
     "execution_count": 15,
     "metadata": {},
     "output_type": "execute_result"
    }
   ],
   "source": [
    "import pandas as p\n",
    "from sklearn.tree import DecisionTreeClassifier\n",
    "from sklearn.model_selection import train_test_split\n",
    "from sklearn.metrics import accuracy_score\n",
    "\n",
    "data_juegos = p.read_csv(\"juegos-ml.csv\")\n",
    "X = data_juegos.drop(columns=[\"juegos\"])\n",
    "y = data_juegos[\"juegos\"]\n",
    "X_entrenar, X_prueba, y_entrenar, y_prueba = train_test_split(X.values, y, test_size=0.2)\n",
    "\n",
    "modelo = DecisionTreeClassifier()\n",
    "modelo.fit(X_entrenar, y_entrenar)\n",
    "predicciones = modelo.predict(X_prueba)\n",
    "\n",
    "puntaje = accuracy_score(y_prueba, predicciones)\n",
    "puntaje"
   ]
  }
 ],
 "metadata": {
  "kernelspec": {
   "display_name": "Python 3 (ipykernel)",
   "language": "python",
   "name": "python3"
  },
  "language_info": {
   "codemirror_mode": {
    "name": "ipython",
    "version": 3
   },
   "file_extension": ".py",
   "mimetype": "text/x-python",
   "name": "python",
   "nbconvert_exporter": "python",
   "pygments_lexer": "ipython3",
   "version": "3.12.4"
  }
 },
 "nbformat": 4,
 "nbformat_minor": 4
}
